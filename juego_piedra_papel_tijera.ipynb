{
 "cells": [
  {
   "cell_type": "markdown",
   "metadata": {},
   "source": []
  },
  {
   "cell_type": "markdown",
   "metadata": {},
   "source": [
    "- Reglas del Juego \"Piedra, Papel y Tijera\":\n",
    "\n",
    "    - Dos jugadores eligen una de las tres opciones: \"Piedra\", \"Papel\" o \"Tijera\".\n",
    "\n",
    "    - Las reglas para determinar al ganador son:\n",
    "        \n",
    "        - Piedra vence a Tijera.\n",
    "\n",
    "        - Tijera vence a Papel.\n",
    "\n",
    "        - Papel vence a Piedra.\n",
    "\n",
    "        - El jugador que gana una ronda obtiene un punto.\n",
    "        \n",
    "        - El juego continúa hasta que un jugador haya acumulado 3 puntos, convirtiéndose en el ganador.\n",
    "\n",
    "\n",
    "- Pistas para las alumnas:\n",
    "\n",
    "    1. Comienza por definir el número de puntos objetivo que se deben alcanzar para ganar el juego.\n",
    "\n",
    "    2. Implementa una función que obtenga la elección del jugador y valide que sea una de las opciones válidas (\"Piedra\", \"Papel\" o \"Tijera\").\n",
    "\n",
    "    3. Utiliza un bucle `while` para llevar un registro de los puntos de cada jugador y continuar el juego hasta que se alcance el número de puntos objetivo.\n",
    "\n",
    "    4. Genera una elección aleatoria para el segundo jugador (la computadora) utilizando el módulo `random`.\n",
    "\n",
    "    5. Determina al ganador de cada ronda y actualiza los puntos correspondientes.\n",
    "\n",
    "    6. Verifica si algún jugador ha alcanzado el número de puntos objetivo y finalicen el juego cuando eso suceda."
   ]
  },
  {
   "cell_type": "code",
   "execution_count": 1,
   "metadata": {},
   "outputs": [
    {
     "name": "stdout",
     "output_type": "stream",
     "text": [
      "Bienvenida al juego escoge piedra, papel o tijera. Gana el jugador que consigue 3 victorias.\n",
      "\n",
      "Ronda nº: 1\n",
      "EMPATE\n",
      "\n",
      "Ronda nº: 2\n",
      "EMPATE\n",
      "\n",
      "Ronda nº: 3\n",
      "EMPATE\n",
      "\n",
      "Ronda nº: 4\n",
      "EMPATE\n",
      "\n",
      "Ronda nº: 5\n",
      "EMPATE\n",
      "\n",
      "Ronda nº: 6\n",
      "GANA COMPUTADORA\n",
      "\n",
      "Ronda nº: 7\n",
      "GANA COMPUTADORA\n",
      "\n",
      "Ronda nº: 8\n",
      "GANA COMPUTADORA\n",
      "LO SIENTO, HAS PERDIDO. Resultado final: Puntos Jugador 0, Puntos Computadora 3, Nº Empates 5\n"
     ]
    }
   ],
   "source": [
    "#print (\"Inicio del juego : Computadora elije :\", computadora, \" ---- Jugador elige:\", jugador)\n",
    "\n",
    "\n",
    "import random\n",
    "\n",
    "puntos_jugador = 0\n",
    "puntos_computadora = 0\n",
    "empates = 0\n",
    "armas = [\"piedra\",\"papel\",\"tijera\"]\n",
    "puntos_objetivo = 3\n",
    "rondas = 1\n",
    "#computadora = random.choice(armas)\n",
    "\n",
    "print(\"Bienvenida al juego escoge piedra, papel o tijera. Gana el jugador que consigue 3 victorias.\")\n",
    "\n",
    "while puntos_computadora < puntos_objetivo and puntos_jugador < puntos_objetivo:\n",
    "    print(f\"\\nRonda nº: {rondas}\")\n",
    "    computadora = random.choice(armas) \n",
    "    jugador = input(\"Escoge piedra, papel o tijera: \").lower()\n",
    "    if((jugador == \"piedra\" and computadora == \"papel\") \n",
    "        or (jugador == \"papel\" and computadora == \"tijera\") \n",
    "        or (jugador == \"tijera\" and computadora == \"piedra\")):\n",
    "        puntos_computadora += 1\n",
    "        print (\"GANA COMPUTADORA\")\n",
    "\n",
    "    elif((jugador == \"piedra\" and computadora == \"tijera\") \n",
    "        or (jugador == \"papel\" and computadora == \"piedra\") \n",
    "        or (jugador == \"tijera\" and computadora == \"papel\")):\n",
    "        puntos_jugador += 1 \n",
    "        print(\"GANA JUGADOR\")\n",
    "    else:\n",
    "        empates += 1 \n",
    "        print (\"EMPATE\")\n",
    "\n",
    "    rondas +=1\n",
    "\n",
    "if puntos_jugador == puntos_objetivo:   \n",
    "    print(f\"ENHORABUENA, HAS GANADO. Resultado final: Puntos Jugador {puntos_jugador}, Puntos Computadora {puntos_computadora}, Nº Empates {empates}\")\n",
    "else:\n",
    "    print(f\"LO SIENTO, HAS PERDIDO. Resultado final: Puntos Jugador {puntos_jugador}, Puntos Computadora {puntos_computadora}, Nº Empates {empates}\")\n"
   ]
  }
 ],
 "metadata": {
  "kernelspec": {
   "display_name": "base",
   "language": "python",
   "name": "python3"
  },
  "language_info": {
   "codemirror_mode": {
    "name": "ipython",
    "version": 3
   },
   "file_extension": ".py",
   "mimetype": "text/x-python",
   "name": "python",
   "nbconvert_exporter": "python",
   "pygments_lexer": "ipython3",
   "version": "3.11.7"
  }
 },
 "nbformat": 4,
 "nbformat_minor": 2
}
